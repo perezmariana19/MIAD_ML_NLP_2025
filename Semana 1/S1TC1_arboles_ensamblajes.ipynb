{
 "cells": [
  {
   "cell_type": "markdown",
   "metadata": {},
   "source": [
    "![image info](https://raw.githubusercontent.com/albahnsen/MIAD_ML_and_NLP/main/images/banner_1.png)"
   ]
  },
  {
   "cell_type": "markdown",
   "metadata": {},
   "source": [
    "# Taller: Construcción e implementación de árboles de decisión y métodos de ensamblaje\n",
    "\n",
    "En este taller podrá poner en práctica los sus conocimientos sobre construcción e implementación de árboles de decisión y métodos de ensamblajes. El taller está constituido por 9 puntos, 5 relacionados con árboles de decisión (parte A) y 4 con métodos de ensamblaje (parte B)."
   ]
  },
  {
   "cell_type": "markdown",
   "metadata": {},
   "source": [
    "## Parte A - Árboles de decisión\n",
    "\n",
    "En esta parte del taller se usará el conjunto de datos de Capital Bikeshare de Kaggle, donde cada observación representa el alquiler de bicicletas durante una hora y día determinado. Para más detalles puede visitar los siguientes enlaces: [datos](https://archive.ics.uci.edu/ml/machine-learning-databases/00275/Bike-Sharing-Dataset.zip), [dicccionario de datos](https://archive.ics.uci.edu/ml/datasets/Bike+Sharing+Dataset#)."
   ]
  },
  {
   "cell_type": "markdown",
   "metadata": {},
   "source": [
    "### Datos prestamo de bicicletas"
   ]
  },
  {
   "cell_type": "code",
   "execution_count": 2,
   "metadata": {},
   "outputs": [],
   "source": [
    "import warnings\n",
    "warnings.filterwarnings('ignore')"
   ]
  },
  {
   "cell_type": "code",
   "execution_count": 3,
   "metadata": {},
   "outputs": [],
   "source": [
    "# Importación de librerías\n",
    "%matplotlib inline\n",
    "import matplotlib.pyplot as plt\n",
    "import pandas as pd\n",
    "import numpy as np\n",
    "from sklearn.model_selection import cross_val_score\n",
    "from sklearn.linear_model import LinearRegression\n",
    "from sklearn.tree import DecisionTreeRegressor, export_graphviz"
   ]
  },
  {
   "cell_type": "code",
   "execution_count": 4,
   "metadata": {},
   "outputs": [
    {
     "data": {
      "text/html": [
       "<div>\n",
       "<style scoped>\n",
       "    .dataframe tbody tr th:only-of-type {\n",
       "        vertical-align: middle;\n",
       "    }\n",
       "\n",
       "    .dataframe tbody tr th {\n",
       "        vertical-align: top;\n",
       "    }\n",
       "\n",
       "    .dataframe thead th {\n",
       "        text-align: right;\n",
       "    }\n",
       "</style>\n",
       "<table border=\"1\" class=\"dataframe\">\n",
       "  <thead>\n",
       "    <tr style=\"text-align: right;\">\n",
       "      <th></th>\n",
       "      <th>season</th>\n",
       "      <th>holiday</th>\n",
       "      <th>workingday</th>\n",
       "      <th>weather</th>\n",
       "      <th>temp</th>\n",
       "      <th>atemp</th>\n",
       "      <th>humidity</th>\n",
       "      <th>windspeed</th>\n",
       "      <th>casual</th>\n",
       "      <th>registered</th>\n",
       "      <th>total</th>\n",
       "      <th>hour</th>\n",
       "    </tr>\n",
       "    <tr>\n",
       "      <th>datetime</th>\n",
       "      <th></th>\n",
       "      <th></th>\n",
       "      <th></th>\n",
       "      <th></th>\n",
       "      <th></th>\n",
       "      <th></th>\n",
       "      <th></th>\n",
       "      <th></th>\n",
       "      <th></th>\n",
       "      <th></th>\n",
       "      <th></th>\n",
       "      <th></th>\n",
       "    </tr>\n",
       "  </thead>\n",
       "  <tbody>\n",
       "    <tr>\n",
       "      <th>2011-01-01 00:00:00</th>\n",
       "      <td>1</td>\n",
       "      <td>0</td>\n",
       "      <td>0</td>\n",
       "      <td>1</td>\n",
       "      <td>9.84</td>\n",
       "      <td>14.395</td>\n",
       "      <td>81</td>\n",
       "      <td>0.0</td>\n",
       "      <td>3</td>\n",
       "      <td>13</td>\n",
       "      <td>16</td>\n",
       "      <td>0</td>\n",
       "    </tr>\n",
       "    <tr>\n",
       "      <th>2011-01-01 01:00:00</th>\n",
       "      <td>1</td>\n",
       "      <td>0</td>\n",
       "      <td>0</td>\n",
       "      <td>1</td>\n",
       "      <td>9.02</td>\n",
       "      <td>13.635</td>\n",
       "      <td>80</td>\n",
       "      <td>0.0</td>\n",
       "      <td>8</td>\n",
       "      <td>32</td>\n",
       "      <td>40</td>\n",
       "      <td>1</td>\n",
       "    </tr>\n",
       "    <tr>\n",
       "      <th>2011-01-01 02:00:00</th>\n",
       "      <td>1</td>\n",
       "      <td>0</td>\n",
       "      <td>0</td>\n",
       "      <td>1</td>\n",
       "      <td>9.02</td>\n",
       "      <td>13.635</td>\n",
       "      <td>80</td>\n",
       "      <td>0.0</td>\n",
       "      <td>5</td>\n",
       "      <td>27</td>\n",
       "      <td>32</td>\n",
       "      <td>2</td>\n",
       "    </tr>\n",
       "    <tr>\n",
       "      <th>2011-01-01 03:00:00</th>\n",
       "      <td>1</td>\n",
       "      <td>0</td>\n",
       "      <td>0</td>\n",
       "      <td>1</td>\n",
       "      <td>9.84</td>\n",
       "      <td>14.395</td>\n",
       "      <td>75</td>\n",
       "      <td>0.0</td>\n",
       "      <td>3</td>\n",
       "      <td>10</td>\n",
       "      <td>13</td>\n",
       "      <td>3</td>\n",
       "    </tr>\n",
       "    <tr>\n",
       "      <th>2011-01-01 04:00:00</th>\n",
       "      <td>1</td>\n",
       "      <td>0</td>\n",
       "      <td>0</td>\n",
       "      <td>1</td>\n",
       "      <td>9.84</td>\n",
       "      <td>14.395</td>\n",
       "      <td>75</td>\n",
       "      <td>0.0</td>\n",
       "      <td>0</td>\n",
       "      <td>1</td>\n",
       "      <td>1</td>\n",
       "      <td>4</td>\n",
       "    </tr>\n",
       "  </tbody>\n",
       "</table>\n",
       "</div>"
      ],
      "text/plain": [
       "                     season  holiday  workingday  weather  temp   atemp  \\\n",
       "datetime                                                                  \n",
       "2011-01-01 00:00:00       1        0           0        1  9.84  14.395   \n",
       "2011-01-01 01:00:00       1        0           0        1  9.02  13.635   \n",
       "2011-01-01 02:00:00       1        0           0        1  9.02  13.635   \n",
       "2011-01-01 03:00:00       1        0           0        1  9.84  14.395   \n",
       "2011-01-01 04:00:00       1        0           0        1  9.84  14.395   \n",
       "\n",
       "                     humidity  windspeed  casual  registered  total  hour  \n",
       "datetime                                                                   \n",
       "2011-01-01 00:00:00        81        0.0       3          13     16     0  \n",
       "2011-01-01 01:00:00        80        0.0       8          32     40     1  \n",
       "2011-01-01 02:00:00        80        0.0       5          27     32     2  \n",
       "2011-01-01 03:00:00        75        0.0       3          10     13     3  \n",
       "2011-01-01 04:00:00        75        0.0       0           1      1     4  "
      ]
     },
     "execution_count": 4,
     "metadata": {},
     "output_type": "execute_result"
    }
   ],
   "source": [
    "# Lectura de la información de archivo .csv\n",
    "bikes = pd.read_csv('https://raw.githubusercontent.com/davidzarruk/MIAD_ML_NLP_2023/main/datasets/bikeshare.csv', index_col='datetime', parse_dates=True)\n",
    "\n",
    "# Renombrar variable \"count\" a \"total\"\n",
    "bikes.rename(columns={'count':'total'}, inplace=True)\n",
    "\n",
    "# Crear la hora como una variable \n",
    "bikes['hour'] = bikes.index.hour\n",
    "\n",
    "# Visualización de los datos\n",
    "bikes.head()"
   ]
  },
  {
   "cell_type": "markdown",
   "metadata": {},
   "source": [
    "### Punto 1 - Análisis descriptivo\n",
    "\n",
    "Ejecute las celdas 1.1 y 1.2. A partir de los resultados realice un análisis descriptivo sobre las variables \"season\" y \"hour\", escriba sus inferencias sobre los datos. Para complementar su análisis puede usar métricas como máximo, mínimo, percentiles entre otros."
   ]
  },
  {
   "cell_type": "code",
   "execution_count": 4,
   "metadata": {},
   "outputs": [
    {
     "data": {
      "text/plain": [
       "season\n",
       "1    116.343261\n",
       "2    215.251372\n",
       "3    234.417124\n",
       "4    198.988296\n",
       "Name: total, dtype: float64"
      ]
     },
     "execution_count": 4,
     "metadata": {},
     "output_type": "execute_result"
    }
   ],
   "source": [
    "# Celda 1.1\n",
    "bikes.groupby('season').total.mean()"
   ]
  },
  {
   "cell_type": "code",
   "execution_count": 5,
   "metadata": {},
   "outputs": [
    {
     "name": "stdout",
     "output_type": "stream",
     "text": [
      "season\n",
      "1    801\n",
      "2    873\n",
      "3    977\n",
      "4    948\n",
      "Name: total, dtype: int64\n"
     ]
    }
   ],
   "source": [
    "print(bikes.groupby('season').total.max())"
   ]
  },
  {
   "cell_type": "markdown",
   "metadata": {},
   "source": [
    "### Análisis\n",
    "1. El verano tiene el mayor promedio de bicicletas alquiladas (234.42), lo que sugiere que el clima cálido y el período vacacional de esta estación posiblemente fomentan más el uso de bicicletas.\n",
    "\n",
    "2. El invierno tiene el menor promedio de alquiler de bicicletas (116.34), lo que puede explicarse por las condiciones climáticas menos favorables para salir en general y el ciclismo.\n",
    "\n",
    "3. Hay un incremento significativo en el alquiler de bicicletas de invierno a primavera, y el nivel se mantiene elevado durante el verano antes de disminuir en otoño.\n",
    "\n",
    "4. Los valores máximos de bicicletas alquiladas por día en cada estación son similares, no presentan diferencias tan extremas como los promedios; lo cual puede ser atribuido a eventos y fechas especiales en las que la demanda es alta sin importar la estación.\n",
    "\n",
    "### Conclusión\n",
    "La variación del número de bicicletas alquiladas a lo largo del año podría estar influido por factores meteorológicos, eventos estacionales, y las vacaciones."
   ]
  },
  {
   "cell_type": "code",
   "execution_count": 6,
   "metadata": {
    "scrolled": true
   },
   "outputs": [
    {
     "data": {
      "text/plain": [
       "hour\n",
       "0      55.138462\n",
       "1      33.859031\n",
       "2      22.899554\n",
       "3      11.757506\n",
       "4       6.407240\n",
       "5      19.767699\n",
       "6      76.259341\n",
       "7     213.116484\n",
       "8     362.769231\n",
       "9     221.780220\n",
       "10    175.092308\n",
       "11    210.674725\n",
       "12    256.508772\n",
       "13    257.787281\n",
       "14    243.442982\n",
       "15    254.298246\n",
       "16    316.372807\n",
       "17    468.765351\n",
       "18    430.859649\n",
       "19    315.278509\n",
       "20    228.517544\n",
       "21    173.370614\n",
       "22    133.576754\n",
       "23     89.508772\n",
       "Name: total, dtype: float64"
      ]
     },
     "execution_count": 6,
     "metadata": {},
     "output_type": "execute_result"
    }
   ],
   "source": [
    "# Celda 1.2\n",
    "bikes.groupby('hour').total.mean()"
   ]
  },
  {
   "cell_type": "code",
   "execution_count": 7,
   "metadata": {},
   "outputs": [
    {
     "data": {
      "text/plain": [
       "hour\n",
       "0     283\n",
       "1     168\n",
       "2     119\n",
       "3      66\n",
       "4      28\n",
       "5      57\n",
       "6     213\n",
       "7     596\n",
       "8     839\n",
       "9     414\n",
       "10    539\n",
       "11    647\n",
       "12    757\n",
       "13    729\n",
       "14    730\n",
       "15    724\n",
       "16    783\n",
       "17    970\n",
       "18    977\n",
       "19    743\n",
       "20    551\n",
       "21    584\n",
       "22    502\n",
       "23    256\n",
       "Name: total, dtype: int64"
      ]
     },
     "execution_count": 7,
     "metadata": {},
     "output_type": "execute_result"
    }
   ],
   "source": [
    "bikes.groupby('hour').total.max()"
   ]
  },
  {
   "cell_type": "markdown",
   "metadata": {
    "jp-MarkdownHeadingCollapsed": true
   },
   "source": [
    "### Análisis\n",
    "1. Los picos en el alquiler son de 7-9am y de 4-6pm, lo cual coincide con los horarios típicos de inicio y finalización de la jornada laboral.\n",
    "2. El valle se presenta en la madrugada (12-5am), donde se presenta la menor actividad, siendo la hora en la que menos se alquilan bicicletas las 4am.\n",
    "3. La tarde (12-6pm) muestra consistentemente altos niveles de alquileres, posiblemente justificados por el clima y la luz solar, que son significativamente mejores sin importar la estación.\n",
    "4. Los valores máximos de las bicicletas alquiladas en ciertas horas, indican la posibilidad de eventos y fechas especiales en las que la demanda es alta, por ejemplo: 12-2am, 5-10pm.\n",
    "\n",
    "### Conclusión\n",
    "La variación del número de bicicletas alquiladas a lo largo del día podría estar influido por la jornada laboral, la luz solar y eventos especiales."
   ]
  },
  {
   "cell_type": "markdown",
   "metadata": {},
   "source": [
    "### Punto 2 - Análisis de gráficos\n",
    "\n",
    "Primero ejecute la celda 2.1 y asegúrese de comprender el código y el resultado. Luego, en cada una de celdas 2.2 y 2.3 escriba un código que genere una gráfica del número de bicicletas rentadas promedio para cada valor de la variable \"hour\" (hora) cuando la variable \"season\" es igual a 1 (invierno) e igual a 3 (verano), respectivamente. Analice y escriba sus hallazgos."
   ]
  },
  {
   "cell_type": "code",
   "execution_count": 8,
   "metadata": {},
   "outputs": [
    {
     "data": {
      "text/plain": [
       "count    10886.000000\n",
       "mean       191.574132\n",
       "std        181.144454\n",
       "min          1.000000\n",
       "25%         42.000000\n",
       "50%        145.000000\n",
       "75%        284.000000\n",
       "max        977.000000\n",
       "Name: total, dtype: float64"
      ]
     },
     "execution_count": 8,
     "metadata": {},
     "output_type": "execute_result"
    }
   ],
   "source": [
    "bikes.total.describe()"
   ]
  },
  {
   "cell_type": "code",
   "execution_count": 9,
   "metadata": {},
   "outputs": [
    {
     "name": "stdout",
     "output_type": "stream",
     "text": [
      "hour\n",
      "0      55.138462\n",
      "1      33.859031\n",
      "2      22.899554\n",
      "3      11.757506\n",
      "4       6.407240\n",
      "5      19.767699\n",
      "6      76.259341\n",
      "7     213.116484\n",
      "8     362.769231\n",
      "9     221.780220\n",
      "10    175.092308\n",
      "11    210.674725\n",
      "12    256.508772\n",
      "13    257.787281\n",
      "14    243.442982\n",
      "15    254.298246\n",
      "16    316.372807\n",
      "17    468.765351\n",
      "18    430.859649\n",
      "19    315.278509\n",
      "20    228.517544\n",
      "21    173.370614\n",
      "22    133.576754\n",
      "23     89.508772\n",
      "Name: total, dtype: float64\n"
     ]
    },
    {
     "data": {
      "image/png": "[encoded data removed]",
      "text/plain": [
       "<Figure size 640x480 with 1 Axes>"
      ]
     },
     "metadata": {},
     "output_type": "display_data"
    }
   ],
   "source": [
    "# Celda 2.1 - rentas promedio para cada valor de la variable \"hour\"\n",
    "bikes.groupby('hour').total.mean().plot()\n",
    "print(bikes.groupby('hour').total.mean())\n",
    "plt.show()"
   ]
  },
  {
   "cell_type": "code",
   "execution_count": 10,
   "metadata": {},
   "outputs": [
    {
     "name": "stdout",
     "output_type": "stream",
     "text": [
      "hour\n",
      "0      28.292035\n",
      "1      18.761062\n",
      "2      13.205607\n",
      "3       7.760417\n",
      "4       3.336634\n",
      "5      10.300000\n",
      "6      42.725664\n",
      "7     124.433628\n",
      "8     253.345133\n",
      "9     154.442478\n",
      "10    102.168142\n",
      "11    122.601770\n",
      "12    154.412281\n",
      "13    160.771930\n",
      "14    151.263158\n",
      "15    159.087719\n",
      "16    188.640351\n",
      "17    283.456140\n",
      "18    258.157895\n",
      "19    176.315789\n",
      "20    124.394737\n",
      "21     95.298246\n",
      "22     72.912281\n",
      "23     45.333333\n",
      "Name: total, dtype: float64\n"
     ]
    },
    {
     "data": {
      "image/png": "[encoded data removed]",
      "text/plain": [
       "<Figure size 640x480 with 1 Axes>"
      ]
     },
     "metadata": {},
     "output_type": "display_data"
    }
   ],
   "source": [
    "# Celda 2.2 - \"season\"=1 escriba su código y hallazgos \n",
    "bikes[bikes['season'] == 1].groupby('hour').total.mean().plot()\n",
    "print(bikes[bikes['season'] == 1].groupby('hour').total.mean())\n",
    "plt.show()"
   ]
  },
  {
   "cell_type": "markdown",
   "metadata": {},
   "source": [
    "### Análisis\n",
    "1. Al igual que el promedio general, en invierno el pico más alto se sitúa a las 5 de la tarde, con aproximadamente 283 alquileres. Sin embargo, el alquiler de la mañana es menor que el promedio general.\n",
    "\n",
    "2. Las horas de mínimo alquiler son también 12-5am, con el mínimo a las 4am.\n",
    "\n",
    "### Conclusión\n",
    "A pesar de un comportamiento similar del promedio de alquileres de bicicletas a nivel general y en invierno, el volumen total en esta estación es menor. Lo cual se puede deber a factores climáticos y estacionales."
   ]
  },
  {
   "cell_type": "code",
   "execution_count": 11,
   "metadata": {},
   "outputs": [
    {
     "name": "stdout",
     "output_type": "stream",
     "text": [
      "hour\n",
      "0      75.675439\n",
      "1      44.831858\n",
      "2      31.707965\n",
      "3      15.778761\n",
      "4       8.087719\n",
      "5      25.728070\n",
      "6      96.780702\n",
      "7     264.035088\n",
      "8     403.508772\n",
      "9     250.710526\n",
      "10    218.535088\n",
      "11    256.877193\n",
      "12    307.017544\n",
      "13    304.421053\n",
      "14    286.350877\n",
      "15    294.956140\n",
      "16    371.324561\n",
      "17    565.385965\n",
      "18    539.070175\n",
      "19    413.500000\n",
      "20    307.842105\n",
      "21    236.017544\n",
      "22    180.789474\n",
      "23    121.719298\n",
      "Name: total, dtype: float64\n"
     ]
    },
    {
     "data": {
      "image/png": "[encoded data removed]",
      "text/plain": [
       "<Figure size 640x480 with 1 Axes>"
      ]
     },
     "metadata": {},
     "output_type": "display_data"
    }
   ],
   "source": [
    "# Celda 2.3 - \"season\"=3 escriba su código y hallazgos \n",
    "bikes[bikes['season'] == 3].groupby('hour').total.mean().plot()\n",
    "print(bikes[bikes['season'] == 3].groupby('hour').total.mean())\n",
    "plt.show()"
   ]
  },
  {
   "cell_type": "markdown",
   "metadata": {
    "jp-MarkdownHeadingCollapsed": true
   },
   "source": [
    "### Análisis\n",
    "1. El alquiler de bicicletas, en general, es significativamente más alto en verano; siendo el máximo a las 5pm (565 aproximadamente) y teniendo de igual manera un alto uso a las 8am (403 aproximadamente).\n",
    "2. A pesar de este aumento, las horas de menor actividad siguen siendo de madrugada y la hora con el nivel más bajo de alquileres en verano es la misma que en todo el año: 4am.\n",
    "\n",
    "### Conclusiones\n",
    "El verano tiene un volumen mayor, en promedio, de alquileres de bicicletas comparado con todo el año y específicamente el invierno. Esto puede explicarse por el clima más agradable y más actividades a lo largo de esta estación."
   ]
  },
  {
   "cell_type": "markdown",
   "metadata": {},
   "source": [
    "### Punto 3 - Regresión lineal\n",
    "En la celda 3 ajuste un modelo de regresión lineal a todo el conjunto de datos, utilizando \"total\" como variable de respuesta y \"season\" y \"hour\" como las únicas variables predictoras, teniendo en cuenta que la variable \"season\" es categórica. Luego, imprima los coeficientes e interprételos. ¿Cuáles son las limitaciones de la regresión lineal en este caso?"
   ]
  },
  {
   "cell_type": "code",
   "execution_count": 9,
   "metadata": {},
   "outputs": [
    {
     "name": "stdout",
     "output_type": "stream",
     "text": [
      "Intercepto: 2.1473084972573986\n",
      "Coeficientes: [26.93974052 10.5544872 ]\n"
     ]
    }
   ],
   "source": [
    "# Celda 3\n",
    "from sklearn.metrics import r2_score, mean_squared_error\n",
    "from sklearn.model_selection import train_test_split\n",
    "\n",
    "bikes['season'] = bikes['season'].astype('category')\n",
    "\n",
    "x = bikes[['season', 'hour']]\n",
    "y = bikes['total']\n",
    "\n",
    "# Partición de muestra\n",
    "X_train, X_test, y_train, y_test = train_test_split(x, y, test_size=0.2, random_state=42)\n",
    "\n",
    "reglineal = LinearRegression()\n",
    "reglineal.fit(X_train, y_train)\n",
    "\n",
    "print('Intercepto:', reglineal.intercept_)\n",
    "print('Coeficientes:', reglineal.coef_)"
   ]
  },
  {
   "cell_type": "code",
   "execution_count": 12,
   "metadata": {},
   "outputs": [
    {
     "name": "stdout",
     "output_type": "stream",
     "text": [
      "Mean Squared Error: 26898.27489446689\n"
     ]
    }
   ],
   "source": [
    "# Predicciones del modelo\n",
    "pred_reglineal = reglineal.predict(X_test)\n",
    "\n",
    "# Evaluación del modelo\n",
    "mse_reglineal = mean_squared_error(y_test, pred_reglineal)\n",
    "print(f'Mean Squared Error: {mse_reglineal}')"
   ]
  },
  {
   "cell_type": "markdown",
   "metadata": {
    "jp-MarkdownHeadingCollapsed": true
   },
   "source": [
    "### Análisis\n",
    "1. Tanto la estación como la hora tienen un impacto positivo en el alquiler de bicicletas.\n",
    "2. Específicamente, un aumento en \"season\" en una unidad mientras la hora se mantiene constante (por ejemplo, de invierno a primavera) está asociado con un incremento de aproximadamente 27 bicicletas alquiladas.\n",
    "3. Cada hora adicional en el día se espera que incremente los alquileres en aproximadamente 10 bicicletas, manteniendo constante \"season\".\n",
    "4. El modelo de regresión lineal tiene un MSE de 26898.27 y un RMSE de 164, lo que indica que con este modelo las predicciones pueden estar aproximadamente 164 unidades (en este caso, biciletas alquiladas) por encima o por debajo del valor real.\n",
    "\n",
    "### Conclusiones\n",
    "Con este modelo de regresión lineal se evidencia que season y hour tienen una relación positiva con el total de bicicletas alquiladas. Sin embargo se pueden destacar algunas limitaciones: al usar este modelo, se está asumiendo la linealidad de la relación de las variables predictoras con la variable de respuesta, así como una varianza constante de errores. Tampoco se están considerando las posibles interacciones entre season y hour; y este tipo de modelo es muy sensible a valores atípicos. Con este modelo se ignoran factores como la estacionalidad, los patrones relacionados por eventos especiales o diferentes horas del día; los cuales son relevantes para este contexto."
   ]
  },
  {
   "cell_type": "markdown",
   "metadata": {},
   "source": [
    "### Punto 4 - Árbol de decisión manual\n",
    "En la celda 4 cree un árbol de decisiones para pronosticar la variable \"total\" iterando **manualmente** sobre las variables \"hour\" y  \"season\". El árbol debe tener al menos 6 nodos finales."
   ]
  },
  {
   "cell_type": "code",
   "execution_count": 30,
   "metadata": {
    "scrolled": true
   },
   "outputs": [
    {
     "data": {
      "text/plain": [
       "(1, 8.0, 18268.811823533004)"
      ]
     },
     "execution_count": 30,
     "metadata": {},
     "output_type": "execute_result"
    }
   ],
   "source": [
    "#Celda 4\n",
    "# Cambio de la variable season a número para el funcionamiento del código\n",
    "bikes['season'] = bikes['season'].astype('int')\n",
    "x = bikes[['season', 'hour']]\n",
    "y = bikes['total']\n",
    "\n",
    "# Definición de parámetros y criterios de parada\n",
    "max_depth = None\n",
    "num_pct = 10\n",
    "max_features = None\n",
    "min_gain=0.001\n",
    "\n",
    "# Definición de gini y gini impurity\n",
    "def gini(y):\n",
    "    if y.shape[0] == 0:\n",
    "        return 0\n",
    "    else:\n",
    "        return 1 - (y.mean()**2 + (1 - y.mean())**2)\n",
    "\n",
    "def gini_impurity(X_col, y, split):\n",
    "    \n",
    "    filter_l = X_col < split\n",
    "    y_l = y.loc[filter_l]\n",
    "    y_r = y.loc[~filter_l]\n",
    "    \n",
    "    n_l = y_l.shape[0]\n",
    "    n_r = y_r.shape[0]\n",
    "    \n",
    "    gini_y = gini(y)\n",
    "    gini_l = gini(y_l)\n",
    "    gini_r = gini(y_r)\n",
    "    \n",
    "    gini_impurity_ = gini_y - (n_l / (n_l + n_r) * gini_l + n_r / (n_l + n_r) * gini_r)\n",
    "    \n",
    "    return gini_impurity_\n",
    "\n",
    "# Definición de la función best_split para calcular cuál es la mejor variable y punto de cortepara hacer la bifurcación del árbol\n",
    "def best_split(X, y, num_pct=10):\n",
    "    \n",
    "    features = range(X.shape[1])\n",
    "    \n",
    "    best_split = [0, 0, 0]  # j, split, gain\n",
    "    \n",
    "    # Para todas las varibles \n",
    "    for j in features:\n",
    "        \n",
    "        splits = np.percentile(X.iloc[:, j], np.arange(0, 100, 100.0 / (num_pct+1)).tolist())\n",
    "        splits = np.unique(splits)[1:]\n",
    "        \n",
    "        # Para cada partición\n",
    "        for split in splits:\n",
    "            gain = gini_impurity(X.iloc[:, j], y, split)\n",
    "                        \n",
    "            if gain > best_split[2]:\n",
    "                best_split = [j, split, gain]\n",
    "    \n",
    "    return best_split\n",
    "\n",
    "# Ejecución de best_split para saber cuál es la mejor variable, punto de corte y respectivo impurity\n",
    "j, split, gain = best_split(x, y, 5)\n",
    "j, split, gain"
   ]
  },
  {
   "cell_type": "code",
   "execution_count": 31,
   "metadata": {},
   "outputs": [
    {
     "data": {
      "text/plain": [
       "{'y_pred': 1,\n",
       " 'y_prob': 191.53903379867745,\n",
       " 'level': 0,\n",
       " 'split': [1, 8.0],\n",
       " 'n_samples': 10886,\n",
       " 'gain': 18268.811823533004,\n",
       " 'sl': {'y_pred': 1,\n",
       "  'y_prob': 55.40711902113459,\n",
       "  'level': 1,\n",
       "  'split': [1, 7.0],\n",
       "  'n_samples': 3594,\n",
       "  'gain': 7207.700659959655,\n",
       "  'sl': {'y_pred': 1,\n",
       "   'y_prob': 32.561604584527224,\n",
       "   'level': 2,\n",
       "   'split': [1, 6.0],\n",
       "   'n_samples': 3139,\n",
       "   'gain': 646.8008927589567,\n",
       "   'sl': {'y_pred': 1,\n",
       "    'y_prob': 25.15934475055845,\n",
       "    'level': 3,\n",
       "    'split': -1,\n",
       "    'n_samples': 2684,\n",
       "    'gain': 382.8088308604629},\n",
       "   'sr': {'y_pred': 1,\n",
       "    'y_prob': 75.92778993435448,\n",
       "    'level': 3,\n",
       "    'split': -1,\n",
       "    'n_samples': 455,\n",
       "    'gain': 743.095592335012}},\n",
       "  'sr': {'y_pred': 1,\n",
       "   'y_prob': 212.18599562363238,\n",
       "   'level': 2,\n",
       "   'split': [0, 2.0],\n",
       "   'n_samples': 455,\n",
       "   'gain': 5197.1071057533845,\n",
       "   'sl': {'y_pred': 1,\n",
       "    'y_prob': 122.27826086956522,\n",
       "    'level': 3,\n",
       "    'split': -1,\n",
       "    'n_samples': 113,\n",
       "    'gain': 0},\n",
       "   'sr': {'y_pred': 1,\n",
       "    'y_prob': 241.01162790697674,\n",
       "    'level': 3,\n",
       "    'split': -1,\n",
       "    'n_samples': 342,\n",
       "    'gain': 131.37717588317173}}},\n",
       " 'sr': {'y_pred': 1,\n",
       "  'y_prob': 258.6007677543186,\n",
       "  'level': 1,\n",
       "  'split': [1, 21.0],\n",
       "  'n_samples': 7292,\n",
       "  'gain': 7392.920792160614,\n",
       "  'sl': {'y_pred': 1,\n",
       "   'y_prob': 287.7910901113736,\n",
       "   'level': 2,\n",
       "   'split': [0, 2.0],\n",
       "   'n_samples': 5924,\n",
       "   'gain': 8304.11949599313,\n",
       "   'sl': {'y_pred': 1,\n",
       "    'y_prob': 175.89256756756757,\n",
       "    'level': 3,\n",
       "    'split': -1,\n",
       "    'n_samples': 1478,\n",
       "    'gain': 1134.7125713419155},\n",
       "   'sr': {'y_pred': 1,\n",
       "    'y_prob': 324.8943345323741,\n",
       "    'level': 3,\n",
       "    'split': -1,\n",
       "    'n_samples': 4446,\n",
       "    'gain': 7126.654106105911}},\n",
       "  'sr': {'y_pred': 1,\n",
       "   'y_prob': 131.95985401459853,\n",
       "   'level': 2,\n",
       "   'split': [0, 2.0],\n",
       "   'n_samples': 1368,\n",
       "   'gain': 2478.289069001301,\n",
       "   'sl': {'y_pred': 1,\n",
       "    'y_prob': 70.7703488372093,\n",
       "    'level': 3,\n",
       "    'split': -1,\n",
       "    'n_samples': 342,\n",
       "    'gain': 668.1166854758721},\n",
       "   'sr': {'y_pred': 1,\n",
       "    'y_prob': 152.17996108949416,\n",
       "    'level': 3,\n",
       "    'split': -1,\n",
       "    'n_samples': 1026,\n",
       "    'gain': 2327.263104696969}}}}"
      ]
     },
     "execution_count": 31,
     "metadata": {},
     "output_type": "execute_result"
    }
   ],
   "source": [
    "# División de las observaciones usando la mejor variable 'j' y su punto de corte 'split'\n",
    "filter_l = x.iloc[:, j] < split\n",
    "\n",
    "y_l = y.loc[filter_l]\n",
    "y_r = y.loc[~filter_l]\n",
    "\n",
    "# Definición de la función tree_grow para hacer un crecimiento recursivo del árbol\n",
    "def tree_grow(X, y, level=0, min_gain=0.001, max_depth=None, num_pct=10):\n",
    "    \n",
    "    # Si solo es una observación\n",
    "    if X.shape[0] == 1:\n",
    "        tree = dict(y_pred=y.iloc[:1].values[0], y_prob=0.5, level=level, split=-1, n_samples=1, gain=0)\n",
    "        return tree\n",
    "    \n",
    "    # Calcular la mejor división\n",
    "    j, split, gain = best_split(X, y, num_pct)\n",
    "    \n",
    "    # Guardar el árbol y estimar la predicción\n",
    "    y_pred = int(y.mean() >= 0.5) \n",
    "    y_prob = (y.sum() + 1.0) / (y.shape[0] + 2.0)  # Corrección Laplace \n",
    "    \n",
    "    tree = dict(y_pred=y_pred, y_prob=y_prob, level=level, split=-1, n_samples=X.shape[0], gain=gain)\n",
    "    # Revisar el criterio de parada \n",
    "    if gain < min_gain:\n",
    "        return tree\n",
    "    if max_depth is not None:\n",
    "        if level >= max_depth:\n",
    "            return tree   \n",
    "    \n",
    "    # Continuar creando la partición\n",
    "    filter_l = X.iloc[:, j] < split\n",
    "    X_l, y_l = X.loc[filter_l], y.loc[filter_l]\n",
    "    X_r, y_r = X.loc[~filter_l], y.loc[~filter_l]\n",
    "    tree['split'] = [j, split]\n",
    "\n",
    "    # Siguiente iteración para cada partición\n",
    "    \n",
    "    tree['sl'] = tree_grow(X_l, y_l, level + 1, min_gain=min_gain, max_depth=max_depth, num_pct=num_pct)\n",
    "    tree['sr'] = tree_grow(X_r, y_r, level + 1, min_gain=min_gain, max_depth=max_depth, num_pct=num_pct)\n",
    "    \n",
    "    return tree\n",
    "\n",
    "# Aplicación de la función tree_grow\n",
    "tree = tree_grow(x, y, level=0, min_gain=0.001, max_depth=3, num_pct=10)\n",
    "tree"
   ]
  },
  {
   "cell_type": "code",
   "execution_count": 32,
   "metadata": {},
   "outputs": [
    {
     "data": {
      "text/plain": [
       "array([1., 1., 1., ..., 1., 1., 1.])"
      ]
     },
     "execution_count": 32,
     "metadata": {},
     "output_type": "execute_result"
    }
   ],
   "source": [
    "# Definición de la función tree_predict para hacer predicciones según las variables 'X' y el árbol 'tree'\n",
    "\n",
    "def tree_predict(X, tree, proba=False):\n",
    "    \n",
    "    predicted = np.ones(X.shape[0])\n",
    "\n",
    "    # Revisar si es el nodo final\n",
    "    if tree['split'] == -1:\n",
    "        if not proba:\n",
    "            predicted = predicted * tree['y_pred']\n",
    "        else:\n",
    "            predicted = predicted * tree['y_prob']\n",
    "            \n",
    "    else:\n",
    "        \n",
    "        j, split = tree['split']\n",
    "        filter_l = (X.iloc[:, j] < split)\n",
    "        X_l = X.loc[filter_l]\n",
    "        X_r = X.loc[~filter_l]\n",
    "\n",
    "        if X_l.shape[0] == 0:  # Si el nodo izquierdo está vacio solo continua con el derecho \n",
    "            predicted[~filter_l] = tree_predict(X_r, tree['sr'], proba)\n",
    "        elif X_r.shape[0] == 0:  #  Si el nodo derecho está vacio solo continua con el izquierdo\n",
    "            predicted[filter_l] = tree_predict(X_l, tree['sl'], proba)\n",
    "        else:\n",
    "            predicted[filter_l] = tree_predict(X_l, tree['sl'], proba)\n",
    "            predicted[~filter_l] = tree_predict(X_r, tree['sr'], proba)\n",
    "\n",
    "    return predicted\n",
    "\n",
    "# Ejecución de función tree_predict\n",
    "tree_predict(x, tree)"
   ]
  },
  {
   "cell_type": "markdown",
   "metadata": {},
   "source": [
    "### Punto 5 - Árbol de decisión con librería\n",
    "En la celda 5 entrene un árbol de decisiones con la **librería sklearn**, usando las variables predictoras \"season\" y \"hour\" y calibre los parámetros que considere conveniente para obtener un mejor desempeño. Recuerde dividir los datos en conjuntos de entrenamiento y validación para esto. Comente el desempeño del modelo con alguna métrica de desempeño de modelos de regresión y compare desempeño con el modelo del punto 3."
   ]
  },
  {
   "cell_type": "code",
   "execution_count": 14,
   "metadata": {},
   "outputs": [
    {
     "name": "stdout",
     "output_type": "stream",
     "text": [
      "Mejores hiperparámetros: {'max_depth': 10, 'min_samples_leaf': 1, 'min_samples_split': 2}\n",
      "Mean Squared Error: 13453.850948446416\n"
     ]
    }
   ],
   "source": [
    "# Celda 5\n",
    "from sklearn.model_selection import GridSearchCV\n",
    "\n",
    "arbol = DecisionTreeRegressor()\n",
    "\n",
    "# Calibración y optimización de hiperparámetros\n",
    "param_grid = {\n",
    "    'max_depth': [None, 5, 10, 15],\n",
    "    'min_samples_split': [2, 5, 10],\n",
    "    'min_samples_leaf': [1, 2, 4]\n",
    "}\n",
    "\n",
    "grid_search = GridSearchCV(estimator=arbol, param_grid=param_grid,\n",
    "                           scoring='neg_mean_squared_error', cv=5, n_jobs=-1)\n",
    "\n",
    "grid_search.fit(X_train, y_train)\n",
    "\n",
    "best_parameters = grid_search.best_params_\n",
    "print(\"Mejores hiperparámetros:\", best_parameters)\n",
    "\n",
    "# Selección del mejor modelo\n",
    "best_model = grid_search.best_estimator_\n",
    "\n",
    "# Predicciones del modelo\n",
    "pred_arbol = best_model.predict(X_test)\n",
    "\n",
    "# Evaluación del modelo\n",
    "mse_arbol = mean_squared_error(y_test, pred_arbol)\n",
    "print('Mean Squared Error:', mse_arbol)"
   ]
  },
  {
   "cell_type": "markdown",
   "metadata": {},
   "source": [
    "### Análisis\n",
    "1. Hiperparámetros: el modelo ha determinado que una profundidad máxima de 10 niveles, 1 muestra mínimo por cada hoja del árbol y 2 muestras al menos para realizar una partición en cada nodo; son los parámetros para obtener el mejor desempeño en el modelo.\n",
    "2. MSE: Este modelo tiene un MSE de 13453 y un RMSE de 115.98, lo que indica que con este modelo las predicciones pueden estar aproximadamente 116 unidades (en este caso, biciletas alquiladas) por encima o por debajo del valor real. Dado los valores de la variable y, el MSE indica que aún hay oportunidades de mejora en el modelo. Sin embargo, el árbol de decisión tuvo un mejor MSE que el modelo de regresión lineal.\n",
    "\n",
    "### Conclusión\n",
    "A pesar de tener un mejor MSE que el modelo de regresión lineal, el modelo de árbol de decisión sigue teniendo un error de predicción considerable; por lo cual vale la pena evaluar otras estrategias, ya sea de pre procesamiento o de elección del modelo en sí, para mejorar la calidad de las predicciones."
   ]
  },
  {
   "cell_type": "markdown",
   "metadata": {},
   "source": [
    "## Parte B - Métodos de ensamblajes\n",
    "En esta parte del taller se usará el conjunto de datos de Popularidad de Noticias Online. El objetivo es predecir si la notica es popular o no, la popularidad está dada por la cantidad de reacciones en redes sociales. Para más detalles puede visitar el siguiente enlace: [datos](https://archive.ics.uci.edu/ml/datasets/online+news+popularity)."
   ]
  },
  {
   "cell_type": "markdown",
   "metadata": {},
   "source": [
    "### Datos popularidad de noticias"
   ]
  },
  {
   "cell_type": "code",
   "execution_count": 18,
   "metadata": {},
   "outputs": [
    {
     "data": {
      "text/html": [
       "<div>\n",
       "<style scoped>\n",
       "    .dataframe tbody tr th:only-of-type {\n",
       "        vertical-align: middle;\n",
       "    }\n",
       "\n",
       "    .dataframe tbody tr th {\n",
       "        vertical-align: top;\n",
       "    }\n",
       "\n",
       "    .dataframe thead th {\n",
       "        text-align: right;\n",
       "    }\n",
       "</style>\n",
       "<table border=\"1\" class=\"dataframe\">\n",
       "  <thead>\n",
       "    <tr style=\"text-align: right;\">\n",
       "      <th></th>\n",
       "      <th>url</th>\n",
       "      <th>timedelta</th>\n",
       "      <th>n_tokens_title</th>\n",
       "      <th>n_tokens_content</th>\n",
       "      <th>n_unique_tokens</th>\n",
       "      <th>n_non_stop_words</th>\n",
       "      <th>n_non_stop_unique_tokens</th>\n",
       "      <th>num_hrefs</th>\n",
       "      <th>num_self_hrefs</th>\n",
       "      <th>num_imgs</th>\n",
       "      <th>...</th>\n",
       "      <th>min_positive_polarity</th>\n",
       "      <th>max_positive_polarity</th>\n",
       "      <th>avg_negative_polarity</th>\n",
       "      <th>min_negative_polarity</th>\n",
       "      <th>max_negative_polarity</th>\n",
       "      <th>title_subjectivity</th>\n",
       "      <th>title_sentiment_polarity</th>\n",
       "      <th>abs_title_subjectivity</th>\n",
       "      <th>abs_title_sentiment_polarity</th>\n",
       "      <th>Popular</th>\n",
       "    </tr>\n",
       "  </thead>\n",
       "  <tbody>\n",
       "    <tr>\n",
       "      <th>0</th>\n",
       "      <td>http://mashable.com/2014/12/10/cia-torture-rep...</td>\n",
       "      <td>28.0</td>\n",
       "      <td>9.0</td>\n",
       "      <td>188.0</td>\n",
       "      <td>0.732620</td>\n",
       "      <td>1.0</td>\n",
       "      <td>0.844262</td>\n",
       "      <td>5.0</td>\n",
       "      <td>1.0</td>\n",
       "      <td>1.0</td>\n",
       "      <td>...</td>\n",
       "      <td>0.200000</td>\n",
       "      <td>0.80</td>\n",
       "      <td>-0.487500</td>\n",
       "      <td>-0.60</td>\n",
       "      <td>-0.250000</td>\n",
       "      <td>0.9</td>\n",
       "      <td>0.8</td>\n",
       "      <td>0.4</td>\n",
       "      <td>0.8</td>\n",
       "      <td>1</td>\n",
       "    </tr>\n",
       "    <tr>\n",
       "      <th>1</th>\n",
       "      <td>http://mashable.com/2013/10/18/bitlock-kicksta...</td>\n",
       "      <td>447.0</td>\n",
       "      <td>7.0</td>\n",
       "      <td>297.0</td>\n",
       "      <td>0.653199</td>\n",
       "      <td>1.0</td>\n",
       "      <td>0.815789</td>\n",
       "      <td>9.0</td>\n",
       "      <td>4.0</td>\n",
       "      <td>1.0</td>\n",
       "      <td>...</td>\n",
       "      <td>0.160000</td>\n",
       "      <td>0.50</td>\n",
       "      <td>-0.135340</td>\n",
       "      <td>-0.40</td>\n",
       "      <td>-0.050000</td>\n",
       "      <td>0.1</td>\n",
       "      <td>-0.1</td>\n",
       "      <td>0.4</td>\n",
       "      <td>0.1</td>\n",
       "      <td>0</td>\n",
       "    </tr>\n",
       "    <tr>\n",
       "      <th>2</th>\n",
       "      <td>http://mashable.com/2013/07/24/google-glass-po...</td>\n",
       "      <td>533.0</td>\n",
       "      <td>11.0</td>\n",
       "      <td>181.0</td>\n",
       "      <td>0.660377</td>\n",
       "      <td>1.0</td>\n",
       "      <td>0.775701</td>\n",
       "      <td>4.0</td>\n",
       "      <td>3.0</td>\n",
       "      <td>1.0</td>\n",
       "      <td>...</td>\n",
       "      <td>0.136364</td>\n",
       "      <td>1.00</td>\n",
       "      <td>0.000000</td>\n",
       "      <td>0.00</td>\n",
       "      <td>0.000000</td>\n",
       "      <td>0.3</td>\n",
       "      <td>1.0</td>\n",
       "      <td>0.2</td>\n",
       "      <td>1.0</td>\n",
       "      <td>0</td>\n",
       "    </tr>\n",
       "    <tr>\n",
       "      <th>3</th>\n",
       "      <td>http://mashable.com/2013/11/21/these-are-the-m...</td>\n",
       "      <td>413.0</td>\n",
       "      <td>12.0</td>\n",
       "      <td>781.0</td>\n",
       "      <td>0.497409</td>\n",
       "      <td>1.0</td>\n",
       "      <td>0.677350</td>\n",
       "      <td>10.0</td>\n",
       "      <td>3.0</td>\n",
       "      <td>1.0</td>\n",
       "      <td>...</td>\n",
       "      <td>0.100000</td>\n",
       "      <td>1.00</td>\n",
       "      <td>-0.195701</td>\n",
       "      <td>-0.40</td>\n",
       "      <td>-0.071429</td>\n",
       "      <td>0.0</td>\n",
       "      <td>0.0</td>\n",
       "      <td>0.5</td>\n",
       "      <td>0.0</td>\n",
       "      <td>0</td>\n",
       "    </tr>\n",
       "    <tr>\n",
       "      <th>4</th>\n",
       "      <td>http://mashable.com/2014/02/11/parking-ticket-...</td>\n",
       "      <td>331.0</td>\n",
       "      <td>8.0</td>\n",
       "      <td>177.0</td>\n",
       "      <td>0.685714</td>\n",
       "      <td>1.0</td>\n",
       "      <td>0.830357</td>\n",
       "      <td>3.0</td>\n",
       "      <td>2.0</td>\n",
       "      <td>1.0</td>\n",
       "      <td>...</td>\n",
       "      <td>0.100000</td>\n",
       "      <td>0.55</td>\n",
       "      <td>-0.175000</td>\n",
       "      <td>-0.25</td>\n",
       "      <td>-0.100000</td>\n",
       "      <td>0.0</td>\n",
       "      <td>0.0</td>\n",
       "      <td>0.5</td>\n",
       "      <td>0.0</td>\n",
       "      <td>0</td>\n",
       "    </tr>\n",
       "  </tbody>\n",
       "</table>\n",
       "<p>5 rows × 61 columns</p>\n",
       "</div>"
      ],
      "text/plain": [
       "                                                 url  timedelta  \\\n",
       "0  http://mashable.com/2014/12/10/cia-torture-rep...       28.0   \n",
       "1  http://mashable.com/2013/10/18/bitlock-kicksta...      447.0   \n",
       "2  http://mashable.com/2013/07/24/google-glass-po...      533.0   \n",
       "3  http://mashable.com/2013/11/21/these-are-the-m...      413.0   \n",
       "4  http://mashable.com/2014/02/11/parking-ticket-...      331.0   \n",
       "\n",
       "   n_tokens_title  n_tokens_content  n_unique_tokens  n_non_stop_words  \\\n",
       "0             9.0             188.0         0.732620               1.0   \n",
       "1             7.0             297.0         0.653199               1.0   \n",
       "2            11.0             181.0         0.660377               1.0   \n",
       "3            12.0             781.0         0.497409               1.0   \n",
       "4             8.0             177.0         0.685714               1.0   \n",
       "\n",
       "   n_non_stop_unique_tokens  num_hrefs  num_self_hrefs  num_imgs  ...  \\\n",
       "0                  0.844262        5.0             1.0       1.0  ...   \n",
       "1                  0.815789        9.0             4.0       1.0  ...   \n",
       "2                  0.775701        4.0             3.0       1.0  ...   \n",
       "3                  0.677350       10.0             3.0       1.0  ...   \n",
       "4                  0.830357        3.0             2.0       1.0  ...   \n",
       "\n",
       "   min_positive_polarity  max_positive_polarity  avg_negative_polarity  \\\n",
       "0               0.200000                   0.80              -0.487500   \n",
       "1               0.160000                   0.50              -0.135340   \n",
       "2               0.136364                   1.00               0.000000   \n",
       "3               0.100000                   1.00              -0.195701   \n",
       "4               0.100000                   0.55              -0.175000   \n",
       "\n",
       "   min_negative_polarity  max_negative_polarity  title_subjectivity  \\\n",
       "0                  -0.60              -0.250000                 0.9   \n",
       "1                  -0.40              -0.050000                 0.1   \n",
       "2                   0.00               0.000000                 0.3   \n",
       "3                  -0.40              -0.071429                 0.0   \n",
       "4                  -0.25              -0.100000                 0.0   \n",
       "\n",
       "   title_sentiment_polarity  abs_title_subjectivity  \\\n",
       "0                       0.8                     0.4   \n",
       "1                      -0.1                     0.4   \n",
       "2                       1.0                     0.2   \n",
       "3                       0.0                     0.5   \n",
       "4                       0.0                     0.5   \n",
       "\n",
       "   abs_title_sentiment_polarity  Popular  \n",
       "0                           0.8        1  \n",
       "1                           0.1        0  \n",
       "2                           1.0        0  \n",
       "3                           0.0        0  \n",
       "4                           0.0        0  \n",
       "\n",
       "[5 rows x 61 columns]"
      ]
     },
     "execution_count": 18,
     "metadata": {},
     "output_type": "execute_result"
    }
   ],
   "source": [
    "# Lectura de la información de archivo .csv\n",
    "df = pd.read_csv('https://raw.githubusercontent.com/davidzarruk/MIAD_ML_NLP_2023/main/datasets/mashable.csv', index_col=0)\n",
    "df.head()"
   ]
  },
  {
   "cell_type": "code",
   "execution_count": 19,
   "metadata": {},
   "outputs": [
    {
     "data": {
      "text/plain": [
       "0.5"
      ]
     },
     "execution_count": 19,
     "metadata": {},
     "output_type": "execute_result"
    }
   ],
   "source": [
    "# Definición variable de interes y variables predictoras\n",
    "X2 = df.drop(['url', 'Popular'], axis=1)\n",
    "y2 = df['Popular']\n",
    "y2.mean()"
   ]
  },
  {
   "cell_type": "code",
   "execution_count": 38,
   "metadata": {},
   "outputs": [
    {
     "data": {
      "text/plain": [
       "Popular\n",
       "1    0.5\n",
       "0    0.5\n",
       "Name: proportion, dtype: float64"
      ]
     },
     "execution_count": 38,
     "metadata": {},
     "output_type": "execute_result"
    }
   ],
   "source": [
    "y2.value_counts(normalize=True)"
   ]
  },
  {
   "cell_type": "code",
   "execution_count": 20,
   "metadata": {},
   "outputs": [],
   "source": [
    "# División de la muestra en set de entrenamiento y prueba\n",
    "from sklearn.model_selection import train_test_split\n",
    "X_train2, X_test2, y_train2, y_test2 = train_test_split(X2, y2, random_state=1)"
   ]
  },
  {
   "cell_type": "markdown",
   "metadata": {},
   "source": [
    "### Punto 6 - Árbol de decisión y regresión logística\n",
    "En la celda 6 construya un árbol de decisión y una regresión logística. Para el árbol calibre al menos un parámetro y evalúe el desempeño de cada modelo usando las métricas de Accuracy y F1-Score."
   ]
  },
  {
   "cell_type": "code",
   "execution_count": 21,
   "metadata": {},
   "outputs": [
    {
     "name": "stdout",
     "output_type": "stream",
     "text": [
      "Mejores hiperparámetros: {'max_depth': 1, 'min_samples_leaf': 1, 'min_samples_split': 2}\n",
      "Accuracy: 0.6453333333333333\n",
      "F1 Score: 0.6448598130841121\n"
     ]
    }
   ],
   "source": [
    "# Celda 6\n",
    "from sklearn.metrics import accuracy_score, f1_score\n",
    "from sklearn.tree import DecisionTreeClassifier\n",
    "\n",
    "# Arbol de decisión\n",
    "\n",
    "# Calibración y búsqueda de hiperparámetros\n",
    "param_grid2 = {'max_depth': [None, 1, 2, 3, 4, 10, 15],\n",
    "    'min_samples_split': [2, 5, 10],\n",
    "    'min_samples_leaf': [1, 2, 4]\n",
    "}\n",
    "\n",
    "arbol2 = DecisionTreeClassifier()\n",
    "\n",
    "grid_search2 = GridSearchCV(estimator=arbol2, param_grid=param_grid2, cv=5, scoring='accuracy', n_jobs=-1)\n",
    "grid_search2.fit(X_train2, y_train2)\n",
    "\n",
    "best_parameters2 = grid_search2.best_params_\n",
    "print(\"Mejores hiperparámetros:\", best_parameters2)\n",
    "\n",
    "# Selección del mejor modelo\n",
    "best_model2 = grid_search2.best_estimator_\n",
    "\n",
    "# Predicciones\n",
    "pred_arbol2 = best_model2.predict(X_test2)\n",
    "\n",
    "# Evaluación\n",
    "accuracy_arbol2 = accuracy_score(y_test2, pred_arbol2)\n",
    "print(f\"Accuracy: {accuracy_arbol2}\")\n",
    "f1_arbol2 = f1_score(y_test2, pred_arbol2)\n",
    "print(f\"F1 Score: {f1_arbol2}\")"
   ]
  },
  {
   "cell_type": "code",
   "execution_count": 22,
   "metadata": {},
   "outputs": [
    {
     "name": "stdout",
     "output_type": "stream",
     "text": [
      "Accuracy: 0.6393333333333333\n",
      "F1 Score: 0.6291980808773132\n"
     ]
    }
   ],
   "source": [
    "# Regresión logística\n",
    "from sklearn.linear_model import LogisticRegression\n",
    "from sklearn.preprocessing import StandardScaler\n",
    "\n",
    "scaler = StandardScaler()\n",
    "X_train_scaled = scaler.fit_transform(X_train2)\n",
    "X_test_scaled = scaler.transform(X_test2)\n",
    "\n",
    "reg_log = LogisticRegression(random_state=0, max_iter=10000)\n",
    "reg_log.fit(X_train_scaled, y_train2)\n",
    "\n",
    "# Predicciones\n",
    "pred_reg_log = reg_log.predict(X_test_scaled)\n",
    "\n",
    "# Evaluación\n",
    "accuracy_reg_log = accuracy_score(y_test2, pred_reg_log)\n",
    "print(f\"Accuracy: {accuracy_reg_log}\")\n",
    "f1_reg_log = f1_score(y_test2, pred_reg_log)\n",
    "print(f\"F1 Score: {f1_reg_log}\")"
   ]
  },
  {
   "cell_type": "markdown",
   "metadata": {},
   "source": [
    "### Análisis\n",
    "1. El árbol de decisión tiene ligeramente mejor desempeño que la regresión logística en términos de accuracy y F1-score. Esto indica que el árbol de decisión, con los hiperparámetros optimizados, está ligeramente mejor ajustado a los datos que la regresión logística.\n",
    "2. El F1 score es cercano al accuracy en ambos modelos, lo que sugiere que hay un balance razonable entre precisión y recall. Esto indica que los modelos están manejando el balance de clases de manera adecuada.\n",
    "\n",
    "### Conclusiones\n",
    "En este caso, ambos modelos se comportan de manera razonable pero vale la pena resaltar que el árbol de decisión resulta ser más simple a nivel general y aún así tiene un mejor desempeño, lo cual lo pondría en ventaja sobre la regresión logística."
   ]
  },
  {
   "cell_type": "markdown",
   "metadata": {},
   "source": [
    "### Punto 7 - Votación Mayoritaria\n",
    "En la celda 7 elabore un esamble con la metodología de **Votación mayoritaria** compuesto por 300 muestras bagged donde:\n",
    "\n",
    "-las primeras 100 muestras vienen de árboles de decisión donde max_depth tome un valor de su elección\\\n",
    "-las segundas 100 muestras vienen de árboles de decisión donde min_samples_leaf tome un valor de su elección\\\n",
    "-las últimas 100 muestras vienen de regresiones logísticas\n",
    "\n",
    "Evalúe cada uno de los tres modelos de manera independiente utilizando las métricas de Accuracy y F1-Score, luego evalúe el ensamble de modelos y compare los resultados. \n",
    "\n",
    "Nota: \n",
    "\n",
    "Para este ensamble de 300 modelos, deben hacer votación mayoritaria. Esto lo pueden hacer de distintas maneras. La más \"fácil\" es haciendo la votación \"manualmente\", como se hace a partir del minuto 5:45 del video de Ejemplo práctico de emsablajes en Coursera. Digo que es la más fácil porque si hacen la votación mayoritaria sobre las 300 predicciones van a obtener lo que se espera.\n",
    "\n",
    "Otra opción es: para cada uno de los 3 tipos de modelos, entrenar un ensamble de 100 modelos cada uno. Predecir para cada uno de esos tres ensambles y luego predecir como un ensamble de los 3 ensambles. La cuestión es que la votación mayoritaria al usar los 3 ensambles no necesariamente va a generar el mismo resultado que si hacen la votación mayoritaria directamente sobre los 300 modelos. Entonces, para los que quieran hacer esto, deben hacer ese último cálculo con cuidado.\n",
    "\n",
    "Para los que quieran hacerlo como ensamble de ensambles, digo que se debe hacer el ensamble final con cuidado por lo siguiente. Supongamos que:\n",
    "\n",
    "* para los 100 árboles del primer tipo, la votación mayoritaria es: 55% de los modelos predicen que la clase de una observación es \"1\"\n",
    "* para los 100 árboles del segundo tipo, la votación mayoritaria es: 55% de los modelos predicen que la clase de una observación es \"1\"\n",
    "* para las 100 regresiones logísticas, la votación mayoritaria es: 10% de los modelos predicen que la clase de una observación es \"1\"\n",
    "\n",
    "Si se hace la votación mayoritaria de los 300 modelos, la predicción de esa observación debería ser: (100*55%+100*55%+100*10%)/300 = 40% de los modelos votan porque la predicción debería ser \"1\". Es decir, la predicción del ensamble es \"0\" (dado que menos del 50% de modelos predijo un 1).\n",
    "\n",
    "Sin embargo, si miramos cada ensamble por separado, el primer ensamble predice \"1\", el segundo ensamble predice \"1\" y el último ensamble predice \"0\". Si hago votación mayoritaria sobre esto, la predicción va a ser \"1\", lo cual es distinto a si se hace la votación mayoritaria sobre los 300 modelos."
   ]
  },
  {
   "cell_type": "code",
   "execution_count": 23,
   "metadata": {},
   "outputs": [
    {
     "name": "stdout",
     "output_type": "stream",
     "text": [
      "Primer conjunto de modelos. Accuracy: 0.6466666666666666, F1-Score: 0.636986301369863\n",
      "Segundo conjunto de modelos. Accuracy: 0.6486666666666666, F1-Score: 0.6342817487855655\n",
      "Tercer conjunto de modelos. Accuracy: 0.6406666666666667, F1-Score: 0.630568882796436\n",
      "Ensamble Votación Mayoritaria. Accuracy: 0.6546666666666666, F1-Score: 0.6452054794520548\n"
     ]
    }
   ],
   "source": [
    "# Celda 7\n",
    "# Número de modelos para cada tipo\n",
    "modelos = 100\n",
    "\n",
    "# Predicciones de cada modelo\n",
    "predi_arbol = []\n",
    "predi_arbol2 = []\n",
    "predi_reglog = []\n",
    "\n",
    "# Función para generar las muestras de cada modelo\n",
    "def muestra(x, y, random_state=None):\n",
    "    np.random.seed(random_state)\n",
    "    indices = np.random.choice(range(len(x)), size=len(x), replace=True)\n",
    "    return x.iloc[indices], y.iloc[indices]\n",
    "\n",
    "# Árbol de decisión con max depth\n",
    "max_depth = 4\n",
    "for modelo in range(modelos):\n",
    "    x_muestra_arbol, y_muestra_arbol = muestra(X_train2, y_train2, random_state=modelo)\n",
    "    arbol = DecisionTreeClassifier(max_depth=max_depth, random_state=modelo)\n",
    "    arbol.fit(x_muestra_arbol, y_muestra_arbol)\n",
    "    predi_arbol.append(arbol.predict(X_test2))\n",
    "\n",
    "# Evaluación primer conjunto de modelos\n",
    "predi_arbol = np.array(predi_arbol)\n",
    "vot_may_arbol = np.mean(predi_arbol, axis=0) > 0.5\n",
    "accuracy_arbol = accuracy_score(y_test2, vot_may_arbol)\n",
    "f1_arbol = f1_score(y_test2, vot_may_arbol)\n",
    "print(f'Primer conjunto de modelos. Accuracy: {accuracy_arbol}, F1-Score: {f1_arbol}')\n",
    "\n",
    "# Árbol de decisión con min samples leaf\n",
    "min_samples_leaf = 6\n",
    "for modelo in range(modelos, 2*modelos):\n",
    "    x_muestra, y_muestra = muestra(X_train2, y_train2, random_state=modelo)\n",
    "    arbol2 = DecisionTreeClassifier(min_samples_leaf=min_samples_leaf, random_state=modelo)\n",
    "    arbol2.fit(x_muestra, y_muestra)\n",
    "    predi_arbol2.append(arbol2.predict(X_test2))\n",
    "\n",
    "# Evaluación segundo conjunto de modelos\n",
    "predi_arbol2 = np.array(predi_arbol2)\n",
    "vot_may_arbol2 = np.mean(predi_arbol2, axis=0) > 0.5\n",
    "accuracy_arbol2 = accuracy_score(y_test2, vot_may_arbol2)\n",
    "f1_arbol2 = f1_score(y_test2, vot_may_arbol2)\n",
    "print(f'Segundo conjunto de modelos. Accuracy: {accuracy_arbol2}, F1-Score: {f1_arbol2}')\n",
    "\n",
    "# Regresión logística\n",
    "for modelo in range(2*modelos, 3*modelos):\n",
    "    x_muestra, y_muestra = muestra(pd.DataFrame(X_train_scaled), y_train2, random_state=modelo)\n",
    "    reglog = LogisticRegression(max_iter=200, random_state=modelo)\n",
    "    reglog.fit(x_muestra, y_muestra)\n",
    "    predi_reglog.append(reglog.predict(X_test_scaled))\n",
    "\n",
    "# Evaluación tercer conjunto de modelos\n",
    "predi_reglog = np.array(predi_reglog)\n",
    "vot_may_reglog = np.mean(predi_reglog, axis=0) > 0.5\n",
    "accuracy_reglog = accuracy_score(y_test2, vot_may_reglog)\n",
    "f1_reglog = f1_score(y_test2, vot_may_reglog)\n",
    "print(f'Tercer conjunto de modelos. Accuracy: {accuracy_reglog}, F1-Score: {f1_reglog}')\n",
    "\n",
    "# Evaluación del ensamble completo\n",
    "votos = np.sum(predi_arbol == 1, axis=0) + np.sum(predi_arbol2 == 1, axis=0) + np.sum(predi_reglog == 1, axis=0)\n",
    "predi_vot_may = (votos > (3 * modelos / 2)).astype(int)\n",
    "\n",
    "accuracy_ensamble = accuracy_score(y_test2, predi_vot_may)\n",
    "f1_ensamble = f1_score(y_test2, predi_vot_may)\n",
    "\n",
    "print(f'Ensamble Votación Mayoritaria. Accuracy: {accuracy_ensamble}, F1-Score: {f1_ensamble}')"
   ]
  },
  {
   "cell_type": "markdown",
   "metadata": {},
   "source": [
    "### Análisis\n",
    "1. El Accuracy es similar entre los diferentes conjuntos de modelos individuales, con ligeras variaciones y el mejor accuracy es el de los árboles de decisión con un min_samples_leaf de 6.\n",
    "2. El F1-Score, aunque también es similar entre conjuntos, es generalmente un poco más bajo que el Accuracy. El conjunto de modelos que tiene el mejor F1 es el de los árboles de decisión con un max_depth de 4.\n",
    "3. El ensamblaje mediante votación mayoritaria muestra una mejora tanto en Accuracy como en F1-Score en comparación con los modelos individuales, lo cual sugiere que el ensamblaje está compensando algunas de las debilidades individuales de los modelos.\n",
    "\n",
    "### Conclusiones\n",
    "El ensamblaje por votación mayoritaria parece ser beneficioso en este caso, ya que ha logrado mejorar tanto la precisión general como la efectividad de la clasificación en el modelo, lo cual se puede ver en la mejora del F1-score."
   ]
  },
  {
   "cell_type": "markdown",
   "metadata": {},
   "source": [
    "### Punto 8 - Votación Ponderada\n",
    "En la celda 8 elabore un ensamble con la metodología de **Votación ponderada** compuesto por 300 muestras bagged para los mismos tres escenarios del punto 7. Evalúe los modelos utilizando las métricas de Accuracy y F1-Score"
   ]
  },
  {
   "cell_type": "code",
   "execution_count": 24,
   "metadata": {},
   "outputs": [
    {
     "name": "stdout",
     "output_type": "stream",
     "text": [
      "Pesos OOB - Árbol Depth: 0.34, Árbol Leaf: 0.31, RegLog: 0.35\n",
      "Ensamble ponderado con OOB. Accuracy: 0.6553333333333333, F1-Score: 0.6461327857631759\n"
     ]
    }
   ],
   "source": [
    "# Celda 8\n",
    "# Predicciones y errores OOB\n",
    "predi_arbol = []\n",
    "oob_err_arbol = []\n",
    "\n",
    "predi_arbol2 = []\n",
    "oob_err_arbol2 = []\n",
    "\n",
    "predi_reglog = []\n",
    "oob_err_reglog = []\n",
    "\n",
    "# Función para generar las muestras y errores OOB\n",
    "def muestra_oob(x, y, random_state=None):\n",
    "    generador = np.random.RandomState(random_state)\n",
    "    indices_muestra = generador.choice(range(len(x)), size=len(x), replace=True)\n",
    "    oob_indices = [i for i in range(len(x)) if i not in indices_muestra]\n",
    "    return x.iloc[indices_muestra], y.iloc[indices_muestra], x.iloc[oob_indices], y.iloc[oob_indices]\n",
    "\n",
    "# Árbol de decisión con max depth\n",
    "max_depth = 4\n",
    "for modelo in range(modelos):\n",
    "    x_train, y_train, x_oob, y_oob = muestra_oob(X_train2, y_train2, random_state=modelo)\n",
    "    arbol = DecisionTreeClassifier(max_depth=max_depth, random_state=modelo)\n",
    "    arbol.fit(x_train, y_train)\n",
    "    predi_arbol.append(arbol.predict(X_test2))\n",
    "    oob_pred = arbol.predict(x_oob)\n",
    "    oob_error = 1 - accuracy_score(y_oob, oob_pred)\n",
    "    oob_err_arbol.append(oob_error)\n",
    "\n",
    "# Árbol de decisión con min samples leaf\n",
    "min_samples_leaf = 6\n",
    "for modelo in range(modelos, 2*modelos):\n",
    "    x_train, y_train, x_oob, y_oob = muestra_oob(X_train2, y_train2, random_state=modelo)\n",
    "    arbol2 = DecisionTreeClassifier(min_samples_leaf=min_samples_leaf, random_state=modelo)\n",
    "    arbol2.fit(x_train, y_train)\n",
    "    predi_arbol2.append(arbol2.predict(X_test2))\n",
    "    oob_pred = arbol2.predict(x_oob)\n",
    "    oob_error = 1 - accuracy_score(y_oob, oob_pred)\n",
    "    oob_err_arbol2.append(oob_error)\n",
    "\n",
    "# Regresión logística\n",
    "for modelo in range(2*modelos, 3*modelos):\n",
    "    x_train, y_train, x_oob, y_oob = muestra_oob(pd.DataFrame(X_train_scaled), y_train2, random_state=modelo)\n",
    "    reglog = LogisticRegression(max_iter=200, random_state=modelo)\n",
    "    reglog.fit(x_train, y_train)\n",
    "    predi_reglog.append(reglog.predict(X_test_scaled))\n",
    "    oob_pred = reglog.predict(x_oob)\n",
    "    oob_error = 1 - accuracy_score(y_oob, oob_pred)\n",
    "    oob_err_reglog.append(oob_error)\n",
    "\n",
    "# Cálculo de los pesos ponderados de cada conjunto de modelos\n",
    "total_modelos = modelos * 3\n",
    "pond_arbol = (1 - np.mean(oob_err_arbol))\n",
    "pond_arbol2 = (1 - np.mean(oob_err_arbol2))\n",
    "pond_reglog = (1 - np.mean(oob_err_reglog))\n",
    "\n",
    "total_pond = pond_arbol + pond_arbol2 + pond_reglog\n",
    "pond_arbol /= total_pond\n",
    "pond_arbol2 /= total_pond\n",
    "pond_reglog /= total_pond\n",
    "\n",
    "print(f'Pesos OOB - Árbol Depth: {pond_arbol:.2f}, Árbol Leaf: {pond_arbol2:.2f}, RegLog: {pond_reglog:.2f}')\n",
    "\n",
    "# Predicciones y evaluación del ensamble\n",
    "predi_arbol_ponderado = np.mean(predi_arbol, axis=0) * pond_arbol\n",
    "predi_arbol2_ponderado = np.mean(predi_arbol2, axis=0) * pond_arbol2\n",
    "predi_reglog_ponderado = np.mean(predi_reglog, axis=0) * pond_reglog\n",
    "\n",
    "vot_ponderado = predi_arbol_ponderado + predi_arbol2_ponderado + predi_reglog_ponderado\n",
    "predi_vot_ponderado = (vot_ponderado >= 0.5).astype(int)  # Deberás ajustar este umbral si es necesario\n",
    "\n",
    "# Evaluación del ensamble ponderado\n",
    "accuracy_vot_ponderado = accuracy_score(y_test2, predi_vot_ponderado)\n",
    "f1_vot_ponderado = f1_score(y_test2, predi_vot_ponderado)\n",
    "\n",
    "print(f'Ensamble ponderado con OOB. Accuracy: {accuracy_vot_ponderado}, F1-Score: {f1_vot_ponderado}')"
   ]
  },
  {
   "cell_type": "markdown",
   "metadata": {},
   "source": [
    "### Conclusiones\n",
    "1. El F1 score (0.646) sugiere que el modelo de votación ponderada tiene un buen equilibrio entre la precisión y la exhaustividad. \n",
    "2. Los pesos de cada conjunto de modelos: Árbol Depth (0.34), Árbol Leaf (0.31) y RegLog (0.35), indican que cada uno tiene una contribución relativamente equilibrada en el ensamblaje. Sin embargo, cabe resaltar que la regresión logística es ligeramente más ponderada."
   ]
  },
  {
   "cell_type": "markdown",
   "metadata": {},
   "source": [
    "### Punto 9 - Comparación y análisis de resultados\n",
    "En la celda 9 comente sobre los resultados obtenidos con las metodologías usadas en los puntos 7 y 8, compare los resultados y enuncie posibles ventajas o desventajas de cada una de ellas."
   ]
  },
  {
   "cell_type": "code",
   "execution_count": 25,
   "metadata": {},
   "outputs": [
    {
     "data": {
      "image/png": "[encoded data removed]",
      "text/plain": [
       "<Figure size 800x600 with 1 Axes>"
      ]
     },
     "metadata": {},
     "output_type": "display_data"
    }
   ],
   "source": [
    "# Celda 9\n",
    "# Gráfica de comparación de los modelos\n",
    "import seaborn as sns\n",
    "data = {\n",
    "    'Modelo': ['Votación Ponderada con OOB', 'Votación Ponderada con OOB', 'Votación Mayoritaria', 'Votación Mayoritaria'],\n",
    "    'Métrica': ['Accuracy', 'F1-Score', 'Accuracy', 'F1-Score'],\n",
    "    'Puntuación': [0.6553, 0.6461, 0.6546, 0.6452]\n",
    "}\n",
    "\n",
    "df = pd.DataFrame(data)\n",
    "\n",
    "plt.figure(figsize=(8, 6))\n",
    "sns.barplot(x='Modelo', y='Puntuación', hue='Métrica', data=df, palette='viridis')\n",
    "plt.title('Comparación de Accuracy y F1-Score entre Modelos')\n",
    "plt.ylabel('Puntuaciones')\n",
    "plt.xlabel('Modelos')\n",
    "plt.ylim(0.6, 0.66)\n",
    "\n",
    "plt.show()"
   ]
  },
  {
   "cell_type": "markdown",
   "metadata": {},
   "source": [
    "### Análisis\n",
    "1. El accuracy del modelo de votación ponderada es 0.655. Se puede observar que este tiene un mejor desempeño en general comparado con la votación mayoritaria y los modelos individuales usados en el ensamblaje, lo cual es esperado por la naturaleza del modelo.\n",
    "\n",
    "### Conclusiones\n",
    "Tanto el modelo de votación ponderada con OOB como el de votación mayoritaria tienen un rendimiento similar. Esto se puede evidenciar en el accuracy y el F1-score (0.6553, 0.6461, 0.6546, 0.6452; respectivamente), con pequeñas diferencias. Esto indica que los diferentes métodos de votación tienen un impacto relativamente pequeño en este caso.\n",
    "\n",
    "A pesar de esa pequeña diferencia, vale la pena resaltar que la votación ponderada con OOB tiene un accuracy y F1 ligeramente superiores, indicando así la pequeña mejora, que aporta en el rendimento, el tener en cuenta la diferencia de cada modelo a nivel individual.\n",
    "\n",
    "En cuanto a ventajas se puede destacar que el código de la votación mayoritaria es más simple y resultó siendo casi igual de efectivo que el de la votación ponderada, lo cual implicitamente resulta también en menos carga computacional y permite hacer procesos de optimización de hiperparámetros de manera más efectiva y rápida. Sin embargo, es importante resaltar que este resultado pudo haber sido diferente si los modelos individualmente hubiesen tenido rendimientos diferentes y no tan similares como fue el caso; escenario en el cual una votación ponderada tendría mejores resultados."
   ]
  }
 ],
 "metadata": {
  "kernelspec": {
   "display_name": "Python 3 (ipykernel)",
   "language": "python",
   "name": "python3"
  },
  "language_info": {
   "codemirror_mode": {
    "name": "ipython",
    "version": 3
   },
   "file_extension": ".py",
   "mimetype": "text/x-python",
   "name": "python",
   "nbconvert_exporter": "python",
   "pygments_lexer": "ipython3",
   "version": "3.12.7"
  }
 },
 "nbformat": 4,
 "nbformat_minor": 4
}
